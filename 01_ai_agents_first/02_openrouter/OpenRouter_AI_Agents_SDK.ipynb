{
  "cells": [
    {
      "cell_type": "markdown",
      "metadata": {
        "id": "o92NPvIPpmCv"
      },
      "source": [
        "# Use OpenRouter With OpenAI Agents SDK"
      ]
    },
    {
      "cell_type": "markdown",
      "metadata": {
        "id": "l5oT3E8gqY_O"
      },
      "source": [
        "Setup Prerequisite:\n",
        "\n",
        "1. [Signup at OpenRouter](https://openrouter.ai/)\n",
        "2. [Create an API Key](https://openrouter.ai/settings/keys)\n",
        "2. Select a Free Model (you can continue as we are using a free model here)"
      ]
    },
    {
      "cell_type": "markdown",
      "metadata": {
        "id": "-Zh5JPz1qLbD"
      },
      "source": [
        "## Free and Paid Models"
      ]
    },
    {
      "cell_type": "markdown",
      "metadata": {
        "id": "3NksiafzqSg7"
      },
      "source": [
        "The OpenRouter supports the latest DeepSeek V3 0324 and 50+ other models for free. Most of them support the defacto standard: OpenAI Chat Completion API.\n",
        "\n",
        "\n",
        "If you are using a free model variant (with an ID ending in :free), then you will be limited to 20 requests per minute and 200 requests per day.\n",
        "\n",
        "**See all Models List: https://openrouter.ai/models**\n",
        "\n",
        "Note: OpenRouter do not charge anything extra at inference time."
      ]
    },
    {
      "cell_type": "markdown",
      "metadata": {
        "id": "Krf3ozmkpsVs"
      },
      "source": [
        "## Rate Limiting and Crediting"
      ]
    },
    {
      "cell_type": "markdown",
      "metadata": {
        "id": "WhcFykdIqKI4"
      },
      "source": [
        "There are a few rate limits that apply to certain types of requests, regardless of account status:\n",
        "\n",
        "- Free limit: If you are using a free model variant (with an ID ending in :free), then you will be limited to 20 requests per minute and 200 requests per day.\n",
        "\n",
        "If your account has a negative credit balance, you may see 402 errors, including for free models. Adding credits to put your balance above zero allows you to use those models again.\n",
        "\n",
        "[Reference](https://openrouter.ai/docs/api-reference/limits)"
      ]
    },
    {
      "cell_type": "markdown",
      "metadata": {
        "id": "GqX_s5idrryf"
      },
      "source": [
        "## Install OpenAI Agents Dep."
      ]
    },
    {
      "cell_type": "code",
      "execution_count": 1,
      "metadata": {
        "id": "7teAe2rONlBe",
        "outputId": "3a14abd4-073e-42a9-b2de-21e2e402aa8c",
        "colab": {
          "base_uri": "https://localhost:8080/"
        }
      },
      "outputs": [
        {
          "output_type": "stream",
          "name": "stdout",
          "text": [
            "\u001b[?25l   \u001b[90m━━━━━━━━━━━━━━━━━━━━━━━━━━━━━━━━━━━━━━━━\u001b[0m \u001b[32m0.0/108.3 kB\u001b[0m \u001b[31m?\u001b[0m eta \u001b[36m-:--:--\u001b[0m\r\u001b[2K   \u001b[90m━━━━━━━━━━━━━━━━━━━━━━━━━━━━━━━━━━━━━━━━\u001b[0m \u001b[32m108.3/108.3 kB\u001b[0m \u001b[31m3.2 MB/s\u001b[0m eta \u001b[36m0:00:00\u001b[0m\n",
            "\u001b[2K   \u001b[90m━━━━━━━━━━━━━━━━━━━━━━━━━━━━━━━━━━━━━━━━\u001b[0m \u001b[32m129.2/129.2 kB\u001b[0m \u001b[31m4.9 MB/s\u001b[0m eta \u001b[36m0:00:00\u001b[0m\n",
            "\u001b[2K   \u001b[90m━━━━━━━━━━━━━━━━━━━━━━━━━━━━━━━━━━━━━━━━\u001b[0m \u001b[32m76.1/76.1 kB\u001b[0m \u001b[31m3.2 MB/s\u001b[0m eta \u001b[36m0:00:00\u001b[0m\n",
            "\u001b[2K   \u001b[90m━━━━━━━━━━━━━━━━━━━━━━━━━━━━━━━━━━━━━━━━\u001b[0m \u001b[32m44.4/44.4 kB\u001b[0m \u001b[31m952.3 kB/s\u001b[0m eta \u001b[36m0:00:00\u001b[0m\n",
            "\u001b[2K   \u001b[90m━━━━━━━━━━━━━━━━━━━━━━━━━━━━━━━━━━━━━━━━\u001b[0m \u001b[32m72.0/72.0 kB\u001b[0m \u001b[31m3.9 MB/s\u001b[0m eta \u001b[36m0:00:00\u001b[0m\n",
            "\u001b[2K   \u001b[90m━━━━━━━━━━━━━━━━━━━━━━━━━━━━━━━━━━━━━━━━\u001b[0m \u001b[32m62.5/62.5 kB\u001b[0m \u001b[31m3.3 MB/s\u001b[0m eta \u001b[36m0:00:00\u001b[0m\n",
            "\u001b[?25h"
          ]
        }
      ],
      "source": [
        "!pip install -Uq openai-agents"
      ]
    },
    {
      "cell_type": "code",
      "execution_count": 3,
      "metadata": {
        "id": "z3_PWpn4OIyT"
      },
      "outputs": [],
      "source": [
        "import nest_asyncio\n",
        "nest_asyncio.apply()"
      ]
    },
    {
      "cell_type": "markdown",
      "metadata": {
        "id": "ZTOibVJuN_pi"
      },
      "source": [
        "## Provider Config"
      ]
    },
    {
      "cell_type": "code",
      "execution_count": 2,
      "metadata": {
        "id": "zvmgohqY0-Wm"
      },
      "outputs": [],
      "source": [
        "from google.colab import userdata\n",
        "\n",
        "OPENROUTER_API_KEY = userdata.get(\"OPENROUTER_API_KEY\")"
      ]
    },
    {
      "cell_type": "code",
      "execution_count": 4,
      "metadata": {
        "id": "DeTqCZKGlVk_"
      },
      "outputs": [],
      "source": [
        "#Reference: https://openrouter.ai/docs/quickstart\n",
        "\n",
        "BASE_URL = \"https://openrouter.ai/api/v1\"\n",
        "MODEL = \"google/gemini-2.5-flash-preview\"\n",
        "\n",
        "# Some other free models on 26th March:\n",
        "# https://openrouter.ai/deepseek/deepseek-chat-v3-0324:free\n",
        "# https://openrouter.ai/google/gemini-2.5-pro-exp-03-25:free"
      ]
    },
    {
      "cell_type": "markdown",
      "metadata": {
        "id": "IyWF4XNPtI7f"
      },
      "source": [
        "## 1. Using the OpenRouter API directly"
      ]
    },
    {
      "cell_type": "code",
      "execution_count": 5,
      "metadata": {
        "colab": {
          "base_uri": "https://localhost:8080/"
        },
        "id": "e0if6eGutM9h",
        "outputId": "a7454dc5-a3ec-435b-b4f9-0e06489552ad"
      },
      "outputs": [
        {
          "output_type": "stream",
          "name": "stdout",
          "text": [
            "{'id': 'gen-1745045941-WeogRiSW0RgZ9MXYgQzh', 'provider': 'Google', 'model': 'google/gemini-2.5-flash-preview', 'object': 'chat.completion', 'created': 1745045941, 'choices': [{'logprobs': None, 'finish_reason': 'stop', 'native_finish_reason': 'STOP', 'index': 0, 'message': {'role': 'assistant', 'content': 'That\\'s the million-dollar, or perhaps the eternal, question! The meaning of life is one of the most profound and debated topics throughout human history, and there\\'s no single, universally accepted answer. Here\\'s a breakdown of why it\\'s so complex and some common perspectives:\\n\\n**Why is there no single answer?**\\n\\n* **Subjectivity:** What gives life meaning is deeply personal. What is meaningful to one person might be completely irrelevant to another.\\n* **Lack of Scientific Proof:** Meaning isn\\'t a physical entity that can be measured or observed scientifically.\\n* **Cultural and Philosophical Diversity:** Different cultures, religions, and philosophies offer vastly different interpretations.\\n* **Evolution of Understanding:** Our understanding of meaning often changes throughout our lives as we grow, learn, and experience new things.\\n\\n**Common Perspectives on the Meaning of Life:**\\n\\nHere are some common ideas and frameworks for understanding the meaning of life:\\n\\n**1. Religious and Spiritual Perspectives:**\\n\\n* **Divine Purpose:** Many religions believe life has a meaning assigned by a higher power or God. This often involves fulfilling God\\'s will, achieving salvation, or reaching enlightenment.\\n* **Eternal Life:** Some faiths emphasize that the meaning of this life is preparation for a future, eternal existence.\\n\\n**2. Philosophical Perspectives:**\\n\\n* **Nihilism:** The belief that life is inherently without objective meaning, purpose, or intrinsic value. While seemingly bleak, some nihilists find freedom in this lack of imposed meaning.\\n* **Existentialism:** Emphasizes individual freedom and responsibility. Meaning isn\\'t given; it\\'s *created* through our choices, actions, and experiences. We are free to define our own purpose.\\n* **Absurdism:** Recognizes the inherent conflict between humanity\\'s search for meaning and the universe\\'s apparent lack of it. Absurdists might accept this conflict and find meaning in the struggle itself or in finding joy in the face of the absurd.\\n* **Hedonism:** The pursuit of pleasure and avoidance of pain as the primary meaning of life.\\n* **Utilitarianism:** Finding meaning in maximizing happiness and well-being for the greatest number of people.\\n* **Virtue Ethics:** Focusing on developing good character and living a life based on virtues like honesty, courage, and justice.\\n\\n**3. Psychological and Personal Perspectives:**\\n\\n* **Finding Purpose:** This often involves identifying something larger than oneself to dedicate time and energy to, whether it\\'s a career, a cause, a hobby, or relationships.\\n* **Building Relationships:** Connection with others, love, friendship, and family are often cited as major sources of meaning.\\n* **Making a Difference:** Contributing to the world, helping others, or leaving a positive impact can feel incredibly meaningful.\\n* **Personal Growth and Self-Discovery:** Learning, evolving, and understanding oneself can be a lifelong pursuit that provides meaning.\\n* **Experiencing Life:** Simply engaging with the world, appreciating beauty, experiencing joy and sorrow, and being fully present can be a source of meaning.\\n* **Legacy:** Leaving something behind, whether it\\'s children, a body of work, or a positive influence, can provide a sense of continuity and meaning.\\n\\n**Instead of \"What IS the meaning of life?\", perhaps a better question is \"What is the meaning of life *for me*?\"**\\n\\nUltimately, the meaning of life is a journey of exploration and discovery. It\\'s not about finding a definitive answer in a book or from an authority figure, but rather about:\\n\\n* **Asking the question:** Engaging with the mystery and wonder of existence.\\n* **Exploring different perspectives:** Considering how others have approached this question throughout history and across cultures.\\n* **Looking inward:** Reflecting on what truly matters to you, what brings you joy, and what you feel called to do.\\n* **Taking action:** Living in a way that aligns with your evolving sense of purpose.\\n\\nSo, while there\\'s no single answer to \"What is the meaning of life?\", the act of contemplating and pursuing your own answer is a fundamental part of the human experience.', 'refusal': None, 'reasoning': None}}], 'usage': {'prompt_tokens': 7, 'completion_tokens': 855, 'total_tokens': 862}}\n"
          ]
        }
      ],
      "source": [
        "import requests\n",
        "import json\n",
        "\n",
        "response = requests.post(\n",
        "  url=f\"{BASE_URL}/chat/completions\",\n",
        "  headers={\n",
        "    \"Authorization\": f\"Bearer {OPENROUTER_API_KEY}\",\n",
        "  },\n",
        "  data=json.dumps({\n",
        "    \"model\": MODEL,\n",
        "    \"messages\": [\n",
        "      {\n",
        "        \"role\": \"user\",\n",
        "        \"content\": \"What is the meaning of life?\"\n",
        "      }\n",
        "    ]\n",
        "  })\n",
        ")\n",
        "\n",
        "print(response.json())"
      ]
    },
    {
      "cell_type": "code",
      "execution_count": 6,
      "metadata": {
        "colab": {
          "base_uri": "https://localhost:8080/",
          "height": 209
        },
        "id": "mv3B6_oRto5S",
        "outputId": "78f75980-08a4-4aa9-e129-3cf37d49987a"
      },
      "outputs": [
        {
          "output_type": "execute_result",
          "data": {
            "text/plain": [
              "'That\\'s the million-dollar, or perhaps the eternal, question! The meaning of life is one of the most profound and debated topics throughout human history, and there\\'s no single, universally accepted answer. Here\\'s a breakdown of why it\\'s so complex and some common perspectives:\\n\\n**Why is there no single answer?**\\n\\n* **Subjectivity:** What gives life meaning is deeply personal. What is meaningful to one person might be completely irrelevant to another.\\n* **Lack of Scientific Proof:** Meaning isn\\'t a physical entity that can be measured or observed scientifically.\\n* **Cultural and Philosophical Diversity:** Different cultures, religions, and philosophies offer vastly different interpretations.\\n* **Evolution of Understanding:** Our understanding of meaning often changes throughout our lives as we grow, learn, and experience new things.\\n\\n**Common Perspectives on the Meaning of Life:**\\n\\nHere are some common ideas and frameworks for understanding the meaning of life:\\n\\n**1. Religious and Spiritual Perspectives:**\\n\\n* **Divine Purpose:** Many religions believe life has a meaning assigned by a higher power or God. This often involves fulfilling God\\'s will, achieving salvation, or reaching enlightenment.\\n* **Eternal Life:** Some faiths emphasize that the meaning of this life is preparation for a future, eternal existence.\\n\\n**2. Philosophical Perspectives:**\\n\\n* **Nihilism:** The belief that life is inherently without objective meaning, purpose, or intrinsic value. While seemingly bleak, some nihilists find freedom in this lack of imposed meaning.\\n* **Existentialism:** Emphasizes individual freedom and responsibility. Meaning isn\\'t given; it\\'s *created* through our choices, actions, and experiences. We are free to define our own purpose.\\n* **Absurdism:** Recognizes the inherent conflict between humanity\\'s search for meaning and the universe\\'s apparent lack of it. Absurdists might accept this conflict and find meaning in the struggle itself or in finding joy in the face of the absurd.\\n* **Hedonism:** The pursuit of pleasure and avoidance of pain as the primary meaning of life.\\n* **Utilitarianism:** Finding meaning in maximizing happiness and well-being for the greatest number of people.\\n* **Virtue Ethics:** Focusing on developing good character and living a life based on virtues like honesty, courage, and justice.\\n\\n**3. Psychological and Personal Perspectives:**\\n\\n* **Finding Purpose:** This often involves identifying something larger than oneself to dedicate time and energy to, whether it\\'s a career, a cause, a hobby, or relationships.\\n* **Building Relationships:** Connection with others, love, friendship, and family are often cited as major sources of meaning.\\n* **Making a Difference:** Contributing to the world, helping others, or leaving a positive impact can feel incredibly meaningful.\\n* **Personal Growth and Self-Discovery:** Learning, evolving, and understanding oneself can be a lifelong pursuit that provides meaning.\\n* **Experiencing Life:** Simply engaging with the world, appreciating beauty, experiencing joy and sorrow, and being fully present can be a source of meaning.\\n* **Legacy:** Leaving something behind, whether it\\'s children, a body of work, or a positive influence, can provide a sense of continuity and meaning.\\n\\n**Instead of \"What IS the meaning of life?\", perhaps a better question is \"What is the meaning of life *for me*?\"**\\n\\nUltimately, the meaning of life is a journey of exploration and discovery. It\\'s not about finding a definitive answer in a book or from an authority figure, but rather about:\\n\\n* **Asking the question:** Engaging with the mystery and wonder of existence.\\n* **Exploring different perspectives:** Considering how others have approached this question throughout history and across cultures.\\n* **Looking inward:** Reflecting on what truly matters to you, what brings you joy, and what you feel called to do.\\n* **Taking action:** Living in a way that aligns with your evolving sense of purpose.\\n\\nSo, while there\\'s no single answer to \"What is the meaning of life?\", the act of contemplating and pursuing your own answer is a fundamental part of the human experience.'"
            ],
            "application/vnd.google.colaboratory.intrinsic+json": {
              "type": "string"
            }
          },
          "metadata": {},
          "execution_count": 6
        }
      ],
      "source": [
        "data = response.json()\n",
        "data['choices'][0]['message']['content']\n"
      ]
    },
    {
      "cell_type": "markdown",
      "metadata": {
        "id": "E_jESzWAsu91"
      },
      "source": [
        "## 2. Using OpenAI Agents SDK"
      ]
    },
    {
      "cell_type": "code",
      "execution_count": 7,
      "metadata": {
        "colab": {
          "base_uri": "https://localhost:8080/"
        },
        "id": "QA4vWqtvN6wm",
        "outputId": "37b7330f-acd8-49b7-8d71-afd807498493"
      },
      "outputs": [
        {
          "output_type": "stream",
          "name": "stdout",
          "text": [
            "Function calls itself,\n",
            "Breaks problem to small pieces,\n",
            "Base case stops the loop.\n"
          ]
        }
      ],
      "source": [
        "import asyncio\n",
        "from openai import AsyncOpenAI\n",
        "from agents import Agent, OpenAIChatCompletionsModel, Runner, set_tracing_disabled\n",
        "\n",
        "client = AsyncOpenAI(\n",
        "    api_key=OPENROUTER_API_KEY,\n",
        "    base_url=BASE_URL\n",
        ")\n",
        "\n",
        "set_tracing_disabled(disabled=True)\n",
        "\n",
        "async def main():\n",
        "    # This agent will use the custom LLM provider\n",
        "    agent = Agent(\n",
        "        name=\"Assistant\",\n",
        "        instructions=\"You only respond in haikus.\",\n",
        "        model=OpenAIChatCompletionsModel(model=MODEL, openai_client=client),\n",
        "    )\n",
        "\n",
        "    result = await Runner.run(\n",
        "        agent,\n",
        "        \"Tell me about recursion in programming.\",\n",
        "    )\n",
        "    print(result.final_output)\n",
        "\n",
        "\n",
        "if __name__ == \"__main__\":\n",
        "    asyncio.run(main())"
      ]
    },
    {
      "cell_type": "markdown",
      "metadata": {
        "id": "h5zeCT4q0XKd"
      },
      "source": [
        "# OpenRouter 404 Error Solution\n",
        "\n",
        "## Error - No endpoints found matching\n",
        "```python\n",
        "NotFoundError: Error code: 404 - {'error': {'message': 'No endpoints found matching your data policy. Enable prompt training here: https://openrouter.ai/settings/privacy', 'code': 404}}\n",
        "```\n",
        "\n",
        "## Cause\n",
        "This error occurs when OpenRouter API can't find endpoints matching your data policy, typically because prompt training is disabled.\n",
        "\n",
        "## Solution\n",
        "\n",
        "1. **Enable Prompt Training**:\n",
        "   - Visit [OpenRouter Privacy Settings](https://openrouter.ai/settings/privacy)\n",
        "   - Toggle ON \"Prompt Training\" option\n",
        "\n",
        "2. **Re-run your code** after enabling\n",
        "\n",
        "![OpenRouter Settings Screenshot](https://github.com/panaversity/learn-agentic-ai/blob/main/01_ai_agents_first/02_openrouter/openrouter.png?raw=1)\n",
        "*(Example: Enable prompt training in privacy settings)*\n",
        "\n",
        "## Prevention\n",
        "Keep prompt training enabled for uninterrupted API access.\n",
        "```"
      ]
    }
  ],
  "metadata": {
    "colab": {
      "provenance": []
    },
    "kernelspec": {
      "display_name": "Python 3",
      "name": "python3"
    },
    "language_info": {
      "name": "python"
    }
  },
  "nbformat": 4,
  "nbformat_minor": 0
}